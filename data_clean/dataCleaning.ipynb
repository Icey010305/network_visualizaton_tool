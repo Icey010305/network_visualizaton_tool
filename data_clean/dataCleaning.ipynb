{
 "cells": [
  {
   "cell_type": "markdown",
   "metadata": {},
   "source": [
    "### Data Cleaning\n",
    "In the file 'Cit_HepTh.txt', some paper ID lost their begins(e.g. 1001 should be 9301001)."
   ]
  },
  {
   "cell_type": "code",
   "execution_count": 1,
   "metadata": {},
   "outputs": [],
   "source": [
    "def process_node_ids(input_file, output_file):\n",
    "    with open(input_file, 'r', encoding='utf-8') as file:\n",
    "        lines = file.readlines()\n",
    "    \n",
    "    with open(output_file, 'w', encoding='utf-8') as file:\n",
    "        for line in lines:\n",
    "            if line.startswith(\"#\"):\n",
    "                file.write(line)\n",
    "                continue\n",
    "            \n",
    "            from_node, to_node = line.strip().split()\n",
    "            \n",
    "            # handle from_node\n",
    "            if len(from_node) == 4:\n",
    "                from_node = f\"930{from_node}\"\n",
    "            elif len(from_node) == 5:\n",
    "                from_node = f\"93{from_node}\"\n",
    "            elif len(from_node) == 6:\n",
    "                from_node = f\"0{from_node}\"\n",
    "            \n",
    "            # handle to_node\n",
    "            if len(to_node) == 4:\n",
    "                to_node = f\"930{to_node}\"\n",
    "            elif len(to_node) == 5:\n",
    "                to_node = f\"93{to_node}\"\n",
    "            elif len(to_node) == 6:\n",
    "                to_node = f\"0{to_node}\"\n",
    "            \n",
    "            file.write(f\"{from_node}\\t{to_node}\\n\")\n"
   ]
  },
  {
   "cell_type": "code",
   "execution_count": 2,
   "metadata": {},
   "outputs": [],
   "source": [
    "input_file = 'Cit_HepTh.txt'\n",
    "output_file = 'HepTh_edges.txt'\n",
    "process_node_ids(input_file, output_file)"
   ]
  },
  {
   "cell_type": "markdown",
   "metadata": {},
   "source": [
    "Check Cit_HepTh for nodes that do not exist in paper_details."
   ]
  },
  {
   "cell_type": "code",
   "execution_count": 3,
   "metadata": {},
   "outputs": [],
   "source": [
    "def read_paper_details(file_path):\n",
    "    node_ids = set()\n",
    "    with open(file_path, 'r', encoding='utf-8') as file:\n",
    "        for line in file:\n",
    "            parts = line.strip().split('\\t')\n",
    "            if parts:\n",
    "                node_id = parts[0]\n",
    "                node_ids.add(node_id)\n",
    "    return node_ids\n",
    "\n",
    "def check_citations(citations_file, paper_details_file, output_file):\n",
    "    paper_details_ids = read_paper_details(paper_details_file)\n",
    "    missing_nodes = set()\n",
    "    \n",
    "    with open(citations_file, 'r', encoding='utf-8') as file:\n",
    "        lines = file.readlines()\n",
    "    \n",
    "    for line in lines:\n",
    "        if line.startswith(\"#\"):\n",
    "            continue\n",
    "        from_node, to_node = line.strip().split()\n",
    "        \n",
    "        if len(from_node) == 4:\n",
    "            from_node = f\"930{from_node}\"\n",
    "        if len(to_node) == 4:\n",
    "            to_node = f\"930{to_node}\"\n",
    "        \n",
    "        if from_node not in paper_details_ids:\n",
    "            missing_nodes.add(from_node)\n",
    "        if to_node not in paper_details_ids:\n",
    "            missing_nodes.add(to_node)\n",
    "    \n",
    "    with open(output_file, 'w', encoding='utf-8') as file:\n",
    "        for node_id in sorted(missing_nodes):\n",
    "            file.write(f\"{node_id}\\n\")"
   ]
  },
  {
   "cell_type": "code",
   "execution_count": 4,
   "metadata": {},
   "outputs": [],
   "source": [
    "citations_file = 'HepTh_edges.txt'\n",
    "paper_details_file = 'HepTh_abstracts/cleaned_paper_details.txt'\n",
    "output_file = 'missing_nodes.txt'\n",
    "check_citations(citations_file, paper_details_file, output_file)\n"
   ]
  },
  {
   "cell_type": "markdown",
   "metadata": {},
   "source": [
    "missing_nodes.txt stores paper nodes without paper detailes, and deletes the edges of HepTh_dges.txt containing these missing_nodes."
   ]
  },
  {
   "cell_type": "code",
   "execution_count": 6,
   "metadata": {},
   "outputs": [],
   "source": [
    "def load_missing_nodes(missing_nodes_file):\n",
    "    \"\"\" 从 missing_nodes.txt 文件中加载没有详细信息的节点ID \"\"\"\n",
    "    with open(missing_nodes_file, 'r', encoding='utf-8') as file:\n",
    "        missing_nodes = set(line.strip() for line in file if line.strip())\n",
    "    return missing_nodes\n",
    "\n",
    "def filter_edges(edges_file, missing_nodes, output_file):\n",
    "    \"\"\" 过滤包含在 missing_nodes 中的节点的边，并将结果保存到 output_file \"\"\"\n",
    "    with open(edges_file, 'r', encoding='utf-8') as file:\n",
    "        lines = file.readlines()\n",
    "    \n",
    "    with open(output_file, 'w', encoding='utf-8') as file:\n",
    "        for line in lines:\n",
    "            if line.startswith(\"#\"):\n",
    "                file.write(line)\n",
    "                continue\n",
    "            \n",
    "            from_node, to_node = line.strip().split()\n",
    "            \n",
    "            if from_node not in missing_nodes and to_node not in missing_nodes:\n",
    "                file.write(f\"{from_node}\\t{to_node}\\n\")\n"
   ]
  },
  {
   "cell_type": "code",
   "execution_count": 7,
   "metadata": {},
   "outputs": [],
   "source": [
    "missing_nodes_file = 'missing_nodes.txt'  \n",
    "edges_file = 'HepTh_edges.txt'  \n",
    "output_file = 'Filtered_HepTh_edges.txt'  \n",
    "missing_nodes = load_missing_nodes(missing_nodes_file)\n",
    "# Filter edges and save results\n",
    "filter_edges(edges_file, missing_nodes, output_file)\n"
   ]
  }
 ],
 "metadata": {
  "kernelspec": {
   "display_name": "network_vis",
   "language": "python",
   "name": "python3"
  },
  "language_info": {
   "codemirror_mode": {
    "name": "ipython",
    "version": 3
   },
   "file_extension": ".py",
   "mimetype": "text/x-python",
   "name": "python",
   "nbconvert_exporter": "python",
   "pygments_lexer": "ipython3",
   "version": "3.8.19"
  }
 },
 "nbformat": 4,
 "nbformat_minor": 2
}
